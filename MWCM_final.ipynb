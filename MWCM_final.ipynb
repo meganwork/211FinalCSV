{
 "cells": [
  {
   "cell_type": "code",
   "execution_count": 52,
   "metadata": {},
   "outputs": [],
   "source": [
    "# Load the data and libraries\n",
    "import pandas as pd\n",
    "import numpy as np\n",
    "from scipy import stats\n",
    "import matplotlib.pyplot as plt\n",
    "plt.style.use('seaborn-whitegrid')\n",
    "\n",
    "card = pd.read_csv('https://raw.githubusercontent.com/meganwork/211FinalCSV/main/BankChurners.csv')"
   ]
  },
  {
   "cell_type": "code",
   "execution_count": 53,
   "metadata": {},
   "outputs": [
    {
     "name": "stdout",
     "output_type": "stream",
     "text": [
      "      Education_Level  Credit_Limit\n",
      "0         High School       12691.0\n",
      "1            Graduate        8256.0\n",
      "2            Graduate        3418.0\n",
      "3         High School        3313.0\n",
      "4          Uneducated        4716.0\n",
      "...               ...           ...\n",
      "10122        Graduate        4003.0\n",
      "10123         Unknown        4277.0\n",
      "10124     High School        5409.0\n",
      "10125        Graduate        5281.0\n",
      "10126        Graduate       10388.0\n",
      "\n",
      "[10127 rows x 2 columns]\n"
     ]
    }
   ],
   "source": [
    "card_small =  card[['Education_Level','Credit_Limit']]\n",
    "print(card_small)"
   ]
  },
  {
   "cell_type": "code",
   "execution_count": 54,
   "metadata": {},
   "outputs": [],
   "source": [
    "def laplace_mech(v, sensitivity, epsilon):\n",
    "    return v + np.random.laplace(loc=0, scale=sensitivity / epsilon)\n",
    "\n",
    "def gaussian_mech(v, sensitivity, epsilon, delta):\n",
    "    return v + np.random.normal(loc=0, scale=sensitivity * np.sqrt(2*np.log(1.25/delta)) / epsilon)\n"
   ]
  },
  {
   "cell_type": "code",
   "execution_count": 196,
   "metadata": {},
   "outputs": [
    {
     "name": "stdout",
     "output_type": "stream",
     "text": [
      "5010\n"
     ]
    }
   ],
   "source": [
    "def pick_b(epsilon):\n",
    "    last_answer = 0\n",
    "    bs = range(10, 10000, 100)\n",
    "    for b in bs: \n",
    "        clipped_answer = card_small['Credit_Limit'].clip(lower=0, upper=b).sum()\n",
    "        dp_answer = laplace_mech(clipped_answer, b, epsilon) #sens = b\n",
    "        if abs(dp_answer - last_answer) < 100*b:\n",
    "            return b\n",
    "        else: \n",
    "            last_answer = dp_answer\n",
    "    return bs[-1]\n",
    "\n",
    "b = pick_b(1.0)\n",
    "print(b)"
   ]
  },
  {
   "cell_type": "code",
   "execution_count": 208,
   "metadata": {},
   "outputs": [
    {
     "data": {
      "text/plain": [
       "8630.807075973084"
      ]
     },
     "execution_count": 208,
     "metadata": {},
     "output_type": "execute_result"
    }
   ],
   "source": [
    "def dp_avg_credit(epsilon):\n",
    "    epsilon_i = epsilon/2\n",
    "    sum_query = card_small['Credit_Limit'].sum()\n",
    "    noisy_sum = laplace_mech(sum_query,(b/len(card_small)),epsilon)\n",
    "    counting_query = len(card_small)\n",
    "    noisy_count = laplace_mech(counting_query,1,epsilon) #sens = 1 for counting queries\n",
    "    \n",
    "    return noisy_sum/noisy_count \n",
    "\n",
    "dp_avg_credit(1.0)"
   ]
  },
  {
   "cell_type": "code",
   "execution_count": null,
   "metadata": {},
   "outputs": [],
   "source": []
  },
  {
   "cell_type": "code",
   "execution_count": null,
   "metadata": {},
   "outputs": [],
   "source": []
  }
 ],
 "metadata": {
  "kernelspec": {
   "display_name": "Python 3",
   "language": "python",
   "name": "python3"
  },
  "language_info": {
   "codemirror_mode": {
    "name": "ipython",
    "version": 3
   },
   "file_extension": ".py",
   "mimetype": "text/x-python",
   "name": "python",
   "nbconvert_exporter": "python",
   "pygments_lexer": "ipython3",
   "version": "3.8.3"
  }
 },
 "nbformat": 4,
 "nbformat_minor": 4
}
